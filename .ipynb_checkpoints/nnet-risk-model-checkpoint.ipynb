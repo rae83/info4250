{
 "cells": [
  {
   "cell_type": "markdown",
   "metadata": {},
   "source": [
    "# A Neural Network model for predicting risk level\n",
    "The code below trains a neural network model on different subsets of the ProPublica dataset to predict the risk score level (high, medium, low) that the COMPAS algorithm would have assigned a given example.  What I show below are (3) models.  One is a classifier that uses 8 features, the next trains only on age, sex and race, and the last model  uses only race to predict COMPAS risk score.  Notes about modifying the models and performance of each is noted within the notebook below.\n",
    "\n",
    "\n"
   ]
  },
  {
   "cell_type": "code",
   "execution_count": 415,
   "metadata": {
    "collapsed": false
   },
   "outputs": [],
   "source": [
    "import pandas as pd\n",
    "import logging\n",
    "\n",
    "import numpy as np\n",
    "import math\n",
    "\n",
    "from sklearn.model_selection import train_test_split\n",
    "# from sklearn.datasets import make_classification\n",
    "# from sklearn.datasets import make_regression\n",
    "from sklearn.metrics import roc_auc_score\n",
    "from sklearn import preprocessing\n",
    "\n",
    "# from mla.datasets import *\n",
    "# from mla.metrics.metrics import root_mean_squared_log_error, mean_squared_error\n",
    "from mla.neuralnet import NeuralNet\n",
    "from mla.neuralnet.constraints import MaxNorm, UnitNorm\n",
    "from mla.neuralnet.layers import Activation, Dense, Dropout\n",
    "from mla.neuralnet.optimizers import SGD, RMSprop, Adagrad, Adadelta, Adam\n",
    "from mla.neuralnet.parameters import Parameters\n",
    "from mla.neuralnet.regularizers import *\n",
    "from mla.utils import one_hot"
   ]
  },
  {
   "cell_type": "markdown",
   "metadata": {},
   "source": [
    "## Functions\n",
    "Setting up functions for important steps like converting dataset rows with lots of text into feature vectors for the model, segmenting the dataset for training and validation...\n"
   ]
  },
  {
   "cell_type": "code",
   "execution_count": 431,
   "metadata": {
    "collapsed": false
   },
   "outputs": [],
   "source": [
    "logging.basicConfig(level=logging.DEBUG)\n",
    "\n",
    "def classification(X, y):\n",
    "    \n",
    "    example_1 = X[-1]\n",
    "    example_2 = X[-2]\n",
    "    example = np.asarray([example_1, example_2])\n",
    "    \n",
    "    y = one_hot(y)\n",
    "    X_train, X_test, y_train, y_test = train_test_split(X, y, test_size=0.15, random_state=1111)\n",
    "\n",
    "    model = NeuralNet(\n",
    "        layers=[\n",
    "            Dense(512, Parameters(init='uniform', regularizers={'W': L2(0.05)})),\n",
    "            Activation('relu'),\n",
    "            Dropout(0.9),\n",
    "            Dense(128, Parameters(init='normal', constraints={'W': MaxNorm()})),\n",
    "            Activation('relu'),\n",
    "            Dense(3),\n",
    "            Activation('softmax'),\n",
    "        ],\n",
    "        loss='categorical_crossentropy',\n",
    "        optimizer=Adadelta(),\n",
    "        metric='accuracy',\n",
    "        batch_size=256,\n",
    "        max_epochs=25,\n",
    "\n",
    "    )\n",
    "\n",
    "    model.fit(X_train, y_train)\n",
    "    predictions = model.predict(X_test)\n",
    "    print('classification accuracy', roc_auc_score(y_test[:, 0], predictions[:, 0]))\n",
    "    \n",
    "    ex_predict = model.predict(example)\n",
    "    scores = [\"LOW\", \"MEDIUM\", \"HIGH\"]\n",
    "    print \"Your first example is predicted to have a %s risk score\" % scores[np.argmax(ex_predict[0])]\n",
    "    print \"Your second example is predicted to have a %s risk score\" % scores[np.argmax(ex_predict[1])]\n"
   ]
  },
  {
   "cell_type": "code",
   "execution_count": 432,
   "metadata": {
    "collapsed": true
   },
   "outputs": [],
   "source": [
    "def process_x_y(x_data, y_data, to_int):\n",
    "    \n",
    "    ''' convert the text columns of np.arrays of desired x_data and y_data into int / vector representation\n",
    "        to_int is the indices of columns with text values (make this programmatic in the next update)'''\n",
    "    \n",
    "    # convert text columns to integer values\n",
    "    le = preprocessing.LabelEncoder()\n",
    "    for i in to_int:\n",
    "        temp = x_data[:,i]\n",
    "        temp_fit = le.fit(temp)\n",
    "        x_data[:,i] = le.transform(temp)\n",
    "\n",
    "    for i in range(len(x_data)):\n",
    "        for j in range(len(x_data[i])):\n",
    "            if np.isnan(x_data[i][j]):\n",
    "                x_data[i][j] = 0\n",
    "\n",
    "    x_data = x_data.astype(int)\n",
    "    \n",
    "\n",
    "    y_fit = le.fit(y_data)\n",
    "    y_data = le.transform(y_data)\n",
    "    \n",
    "    return x_data, y_data"
   ]
  },
  {
   "cell_type": "code",
   "execution_count": 433,
   "metadata": {
    "collapsed": true
   },
   "outputs": [],
   "source": [
    "def run_model(keep, target, to_int):\n",
    "\n",
    "    y = target.as_matrix()\n",
    "    x = keep.as_matrix()\n",
    "\n",
    "    x_data, y_data = process_x_y(x,y, to_int)\n",
    "\n",
    "    x_train, x_test, y_train, y_test = train_test_split(x_data, y_data, test_size=0.15, random_state=1111)\n",
    "    classification(x_data, y_data)"
   ]
  },
  {
   "cell_type": "code",
   "execution_count": 440,
   "metadata": {
    "collapsed": false
   },
   "outputs": [],
   "source": [
    "csv_file = 'datasets/compas-scores-two-years-violent.csv'\n",
    "df = pd.read_csv(csv_file)"
   ]
  },
  {
   "cell_type": "markdown",
   "metadata": {},
   "source": [
    "## Model 1\n",
    "This model trains on sex, age, race, juvenile felony count, juvenile misdemeanor count, juvenile other count, priors count and the charge degree.  It uses these features to predict the COMPAS risk score level.  It classifies examples with ~84% accuracy.\n",
    "\n",
    "It also prints the prediction for two examples.  One is 22 year old Caucasian male who is being charged for his first misdemeanor, and the other is for a 29 year old Caucasian female in the same situation.\n",
    "\n",
    "### For calculating your own risk (or an example of choice):\n",
    "\n",
    "Look for occurrences of the < EXAMPLE > tag in the the code below. Change the values in the indicated array to whatever you want. The order and types of each value correspond to the \"keep\" variable list a few lines above the arrays.  If you pull the repo and can use iPython notebooks, then run the cell and it will print out the classification for your example.  Values used in the rest of the training set for each feature are listed below.  If there are no possible values listed after the \"#\", then you can enter an integer value into the field.\n",
    "\n",
    "* 'sex', # 'Male' or 'Female' (I know this enforces a binary but it's what the training data from the FOIA requests provided)\n",
    "* 'age',\n",
    "* 'race', # 'African-American', 'Caucasian', 'Asian', 'Hispanic, 'Native American', 'Other'\n",
    "* 'juv_fel_count',\n",
    "* 'juv_misd_count',\n",
    "* 'juv_other_count',\n",
    "* 'priors_count',\n",
    "* 'c_charge_degree' # 'F' or 'M' (felony or misdemeanor)"
   ]
  },
  {
   "cell_type": "code",
   "execution_count": 441,
   "metadata": {
    "collapsed": false
   },
   "outputs": [
    {
     "name": "stderr",
     "output_type": "stream",
     "text": [
      "/Users/ryanenderby/anaconda2/lib/python2.7/site-packages/ipykernel/__main__.py:19: SettingWithCopyWarning: \n",
      "A value is trying to be set on a copy of a slice from a DataFrame\n",
      "\n",
      "See the caveats in the documentation: http://pandas.pydata.org/pandas-docs/stable/indexing.html#indexing-view-versus-copy\n",
      "/Users/ryanenderby/anaconda2/lib/python2.7/site-packages/ipykernel/__main__.py:20: SettingWithCopyWarning: \n",
      "A value is trying to be set on a copy of a slice from a DataFrame\n",
      "\n",
      "See the caveats in the documentation: http://pandas.pydata.org/pandas-docs/stable/indexing.html#indexing-view-versus-copy\n",
      "/Users/ryanenderby/anaconda2/lib/python2.7/site-packages/ipykernel/__main__.py:22: SettingWithCopyWarning: \n",
      "A value is trying to be set on a copy of a slice from a DataFrame\n",
      "\n",
      "See the caveats in the documentation: http://pandas.pydata.org/pandas-docs/stable/indexing.html#indexing-view-versus-copy\n",
      "INFO:root:Total parameters: 70659\n",
      "Epoch progress: 100%|██████████| 16/16 [00:00<00:00, 69.21it/s]\n",
      "INFO:root:Epoch:0, train loss: 5.44387433872, train accuracy: 0.715277777778, elapsed: 0.265343904495 sec.\n",
      "Epoch progress: 100%|██████████| 16/16 [00:00<00:00, 69.90it/s]\n",
      "INFO:root:Epoch:1, train loss: 2.02447621972, train accuracy: 0.715277777778, elapsed: 0.259624004364 sec.\n",
      "Epoch progress: 100%|██████████| 16/16 [00:00<00:00, 67.71it/s]\n",
      "INFO:root:Epoch:2, train loss: 1.69987383441, train accuracy: 0.715277777778, elapsed: 0.272696018219 sec.\n",
      "Epoch progress: 100%|██████████| 16/16 [00:00<00:00, 65.29it/s]\n",
      "INFO:root:Epoch:3, train loss: 1.41048024073, train accuracy: 0.715277777778, elapsed: 0.285966873169 sec.\n",
      "Epoch progress: 100%|██████████| 16/16 [00:00<00:00, 60.39it/s]\n",
      "INFO:root:Epoch:4, train loss: 1.24342793776, train accuracy: 0.71626984127, elapsed: 0.306701898575 sec.\n",
      "Epoch progress: 100%|██████████| 16/16 [00:00<00:00, 61.34it/s]\n",
      "INFO:root:Epoch:5, train loss: 1.13693129951, train accuracy: 0.71626984127, elapsed: 0.305350065231 sec.\n",
      "Epoch progress: 100%|██████████| 16/16 [00:00<00:00, 66.31it/s]\n",
      "INFO:root:Epoch:6, train loss: 1.09886442011, train accuracy: 0.717261904762, elapsed: 0.287201881409 sec.\n",
      "Epoch progress: 100%|██████████| 16/16 [00:00<00:00, 59.99it/s]\n",
      "INFO:root:Epoch:7, train loss: 1.04891842254, train accuracy: 0.717261904762, elapsed: 0.30713391304 sec.\n",
      "Epoch progress: 100%|██████████| 16/16 [00:00<00:00, 62.71it/s]\n",
      "INFO:root:Epoch:8, train loss: 1.01149936089, train accuracy: 0.717757936508, elapsed: 0.292331933975 sec.\n",
      "Epoch progress: 100%|██████████| 16/16 [00:00<00:00, 68.53it/s]\n",
      "INFO:root:Epoch:9, train loss: 0.956388368208, train accuracy: 0.717757936508, elapsed: 0.269796848297 sec.\n",
      "Epoch progress: 100%|██████████| 16/16 [00:00<00:00, 67.50it/s]\n",
      "INFO:root:Epoch:10, train loss: 0.975735843604, train accuracy: 0.718005952381, elapsed: 0.272491931915 sec.\n",
      "Epoch progress: 100%|██████████| 16/16 [00:00<00:00, 64.33it/s]\n",
      "INFO:root:Epoch:11, train loss: 0.912959290895, train accuracy: 0.717757936508, elapsed: 0.284960031509 sec.\n",
      "Epoch progress: 100%|██████████| 16/16 [00:00<00:00, 67.19it/s]\n",
      "INFO:root:Epoch:12, train loss: 0.942923391114, train accuracy: 0.71626984127, elapsed: 0.273066997528 sec.\n",
      "Epoch progress: 100%|██████████| 16/16 [00:00<00:00, 68.52it/s]\n",
      "INFO:root:Epoch:13, train loss: 0.896052911442, train accuracy: 0.716021825397, elapsed: 0.269682168961 sec.\n",
      "Epoch progress: 100%|██████████| 16/16 [00:00<00:00, 68.65it/s]\n",
      "INFO:root:Epoch:14, train loss: 0.882852317093, train accuracy: 0.717509920635, elapsed: 0.268480062485 sec.\n",
      "Epoch progress: 100%|██████████| 16/16 [00:00<00:00, 67.92it/s]\n",
      "INFO:root:Epoch:15, train loss: 0.874953712052, train accuracy: 0.717013888889, elapsed: 0.27161192894 sec.\n",
      "Epoch progress: 100%|██████████| 16/16 [00:00<00:00, 61.46it/s]\n",
      "INFO:root:Epoch:16, train loss: 0.846137236743, train accuracy: 0.712549603175, elapsed: 0.303120851517 sec.\n",
      "Epoch progress: 100%|██████████| 16/16 [00:00<00:00, 66.97it/s]\n",
      "INFO:root:Epoch:17, train loss: 0.835076232391, train accuracy: 0.714037698413, elapsed: 0.279629230499 sec.\n",
      "Epoch progress: 100%|██████████| 16/16 [00:00<00:00, 62.61it/s]\n",
      "INFO:root:Epoch:18, train loss: 0.840674002027, train accuracy: 0.706597222222, elapsed: 0.290157079697 sec.\n",
      "Epoch progress: 100%|██████████| 16/16 [00:00<00:00, 66.31it/s]\n",
      "INFO:root:Epoch:19, train loss: 0.803290857544, train accuracy: 0.710813492063, elapsed: 0.279253005981 sec.\n",
      "Epoch progress: 100%|██████████| 16/16 [00:00<00:00, 59.78it/s]\n",
      "INFO:root:Epoch:20, train loss: 0.817059691422, train accuracy: 0.712053571429, elapsed: 0.310064077377 sec.\n",
      "Epoch progress: 100%|██████████| 16/16 [00:00<00:00, 67.93it/s]\n",
      "INFO:root:Epoch:21, train loss: 0.80013330249, train accuracy: 0.714781746032, elapsed: 0.273821115494 sec.\n",
      "Epoch progress: 100%|██████████| 16/16 [00:00<00:00, 67.32it/s]\n",
      "INFO:root:Epoch:22, train loss: 0.772513696196, train accuracy: 0.709325396825, elapsed: 0.276082038879 sec.\n",
      "Epoch progress: 100%|██████████| 16/16 [00:00<00:00, 59.29it/s]\n",
      "INFO:root:Epoch:23, train loss: 0.773377105159, train accuracy: 0.70560515873, elapsed: 0.316474199295 sec.\n",
      "Epoch progress: 100%|██████████| 16/16 [00:00<00:00, 67.05it/s]\n",
      "INFO:root:Epoch:24, train loss: 0.746521382068, train accuracy: 0.714037698413, elapsed: 0.275185108185 sec.\n"
     ]
    },
    {
     "name": "stdout",
     "output_type": "stream",
     "text": [
      "('classification accuracy', 0.84311399346198468)\n",
      "Your first example is predicted to have a MEDIUM risk score\n",
      "Your second example is predicted to have a MEDIUM risk score\n"
     ]
    }
   ],
   "source": [
    "# Predicting the score assigned for risk of violent recidivism\n",
    "\n",
    "keep = [\n",
    " 'sex',\n",
    " 'age',\n",
    " 'race',\n",
    " 'juv_fel_count',\n",
    " 'juv_misd_count',\n",
    " 'juv_other_count',\n",
    " 'priors_count',\n",
    " 'c_charge_degree']\n",
    "\n",
    "target = ['v_score_text']\n",
    "text_cols = [0,2,7]\n",
    "to_keep = df[keep]\n",
    "to_target = df[target]\n",
    "\n",
    "# <EXAMPLE>: Adding in an example of choice\n",
    "to_keep.loc[df.shape[0]] = ['Male',22,'Caucasian',0,0,0,0,'M'] # <--- change the values in this array\n",
    "to_target.loc[df.shape[0]] = ['Low']\n",
    "to_keep.loc[df.shape[0]] = ['Female',29,'Caucasian',0,0,0,0,'M'] # <--- and /or change the values in this array\n",
    "to_target.loc[df.shape[0]] = ['Low']\n",
    "\n",
    "run_model(to_keep, to_target, text_cols)"
   ]
  },
  {
   "cell_type": "markdown",
   "metadata": {},
   "source": [
    "## Model 2\n",
    "This model trains on sex, age and race.  It uses these features to predict the COMPAS risk score level.  It classifies examples with ~81% accuracy.\n",
    "\n",
    "It also prints the prediction for two examples.  One is 22 year old Caucasian male, and the other is for a 29 year old Caucasian female."
   ]
  },
  {
   "cell_type": "code",
   "execution_count": 442,
   "metadata": {
    "collapsed": false
   },
   "outputs": [
    {
     "name": "stderr",
     "output_type": "stream",
     "text": [
      "/Users/ryanenderby/anaconda2/lib/python2.7/site-packages/ipykernel/__main__.py:15: SettingWithCopyWarning: \n",
      "A value is trying to be set on a copy of a slice from a DataFrame\n",
      "\n",
      "See the caveats in the documentation: http://pandas.pydata.org/pandas-docs/stable/indexing.html#indexing-view-versus-copy\n",
      "/Users/ryanenderby/anaconda2/lib/python2.7/site-packages/ipykernel/__main__.py:16: SettingWithCopyWarning: \n",
      "A value is trying to be set on a copy of a slice from a DataFrame\n",
      "\n",
      "See the caveats in the documentation: http://pandas.pydata.org/pandas-docs/stable/indexing.html#indexing-view-versus-copy\n",
      "/Users/ryanenderby/anaconda2/lib/python2.7/site-packages/ipykernel/__main__.py:18: SettingWithCopyWarning: \n",
      "A value is trying to be set on a copy of a slice from a DataFrame\n",
      "\n",
      "See the caveats in the documentation: http://pandas.pydata.org/pandas-docs/stable/indexing.html#indexing-view-versus-copy\n",
      "INFO:root:Total parameters: 68099\n",
      "Epoch progress: 100%|██████████| 16/16 [00:00<00:00, 69.39it/s]\n",
      "INFO:root:Epoch:0, train loss: 4.30000393931, train accuracy: 0.715277777778, elapsed: 0.263988018036 sec.\n",
      "Epoch progress: 100%|██████████| 16/16 [00:00<00:00, 62.68it/s]\n",
      "INFO:root:Epoch:1, train loss: 1.70967224467, train accuracy: 0.715277777778, elapsed: 0.28728890419 sec.\n",
      "Epoch progress: 100%|██████████| 16/16 [00:00<00:00, 71.85it/s]\n",
      "INFO:root:Epoch:2, train loss: 1.40658318102, train accuracy: 0.715277777778, elapsed: 0.256091833115 sec.\n",
      "Epoch progress: 100%|██████████| 16/16 [00:00<00:00, 65.31it/s]\n",
      "INFO:root:Epoch:3, train loss: 1.2759779957, train accuracy: 0.715277777778, elapsed: 0.286967039108 sec.\n",
      "Epoch progress: 100%|██████████| 16/16 [00:00<00:00, 62.94it/s]\n",
      "INFO:root:Epoch:4, train loss: 1.13280116418, train accuracy: 0.715277777778, elapsed: 0.294064044952 sec.\n",
      "Epoch progress: 100%|██████████| 16/16 [00:00<00:00, 64.35it/s]\n",
      "INFO:root:Epoch:5, train loss: 1.0849918802, train accuracy: 0.715277777778, elapsed: 0.281065940857 sec.\n",
      "Epoch progress: 100%|██████████| 16/16 [00:00<00:00, 67.94it/s]\n",
      "INFO:root:Epoch:6, train loss: 1.05888185032, train accuracy: 0.715277777778, elapsed: 0.275638103485 sec.\n",
      "Epoch progress: 100%|██████████| 16/16 [00:00<00:00, 68.75it/s]\n",
      "INFO:root:Epoch:7, train loss: 0.996724294169, train accuracy: 0.715277777778, elapsed: 0.266577005386 sec.\n",
      "Epoch progress: 100%|██████████| 16/16 [00:00<00:00, 69.97it/s]\n",
      "INFO:root:Epoch:8, train loss: 0.989491973582, train accuracy: 0.715277777778, elapsed: 0.26961183548 sec.\n",
      "Epoch progress: 100%|██████████| 16/16 [00:00<00:00, 63.59it/s]\n",
      "INFO:root:Epoch:9, train loss: 0.949373976747, train accuracy: 0.715277777778, elapsed: 0.291851997375 sec.\n",
      "Epoch progress: 100%|██████████| 16/16 [00:00<00:00, 66.60it/s]\n",
      "INFO:root:Epoch:10, train loss: 0.917715713523, train accuracy: 0.715277777778, elapsed: 0.27272105217 sec.\n",
      "Epoch progress: 100%|██████████| 16/16 [00:00<00:00, 69.97it/s]\n",
      "INFO:root:Epoch:11, train loss: 0.900971114809, train accuracy: 0.715277777778, elapsed: 0.263350009918 sec.\n",
      "Epoch progress: 100%|██████████| 16/16 [00:00<00:00, 67.99it/s]\n",
      "INFO:root:Epoch:12, train loss: 0.885233043501, train accuracy: 0.715277777778, elapsed: 0.271868944168 sec.\n",
      "Epoch progress: 100%|██████████| 16/16 [00:00<00:00, 68.43it/s]\n",
      "INFO:root:Epoch:13, train loss: 0.867049710092, train accuracy: 0.715277777778, elapsed: 0.269022941589 sec.\n",
      "Epoch progress: 100%|██████████| 16/16 [00:00<00:00, 69.00it/s]\n",
      "INFO:root:Epoch:14, train loss: 0.859397514281, train accuracy: 0.715277777778, elapsed: 0.266709089279 sec.\n",
      "Epoch progress: 100%|██████████| 16/16 [00:00<00:00, 70.51it/s]\n",
      "INFO:root:Epoch:15, train loss: 0.829172570437, train accuracy: 0.715277777778, elapsed: 0.263444185257 sec.\n",
      "Epoch progress: 100%|██████████| 16/16 [00:00<00:00, 70.05it/s]\n",
      "INFO:root:Epoch:16, train loss: 0.822250512463, train accuracy: 0.715277777778, elapsed: 0.265043973923 sec.\n",
      "Epoch progress: 100%|██████████| 16/16 [00:00<00:00, 68.75it/s]\n",
      "INFO:root:Epoch:17, train loss: 0.808449998381, train accuracy: 0.715277777778, elapsed: 0.26841211319 sec.\n",
      "Epoch progress: 100%|██████████| 16/16 [00:00<00:00, 69.16it/s]\n",
      "INFO:root:Epoch:18, train loss: 0.789615931115, train accuracy: 0.715277777778, elapsed: 0.267457008362 sec.\n",
      "Epoch progress: 100%|██████████| 16/16 [00:00<00:00, 70.68it/s]\n",
      "INFO:root:Epoch:19, train loss: 0.794949221388, train accuracy: 0.745287698413, elapsed: 0.262619972229 sec.\n",
      "Epoch progress: 100%|██████████| 16/16 [00:00<00:00, 68.75it/s]\n",
      "INFO:root:Epoch:20, train loss: 0.784793861881, train accuracy: 0.732886904762, elapsed: 0.269432067871 sec.\n",
      "Epoch progress: 100%|██████████| 16/16 [00:00<00:00, 69.81it/s]\n",
      "INFO:root:Epoch:21, train loss: 0.760978230661, train accuracy: 0.768601190476, elapsed: 0.265802145004 sec.\n",
      "Epoch progress: 100%|██████████| 16/16 [00:00<00:00, 62.05it/s]\n",
      "INFO:root:Epoch:22, train loss: 0.767255837707, train accuracy: 0.765873015873, elapsed: 0.298712968826 sec.\n",
      "Epoch progress: 100%|██████████| 16/16 [00:00<00:00, 69.14it/s]\n",
      "INFO:root:Epoch:23, train loss: 0.755858358671, train accuracy: 0.758432539683, elapsed: 0.268384933472 sec.\n",
      "Epoch progress: 100%|██████████| 16/16 [00:00<00:00, 69.59it/s]\n",
      "INFO:root:Epoch:24, train loss: 0.734880943294, train accuracy: 0.740575396825, elapsed: 0.267060995102 sec.\n"
     ]
    },
    {
     "name": "stdout",
     "output_type": "stream",
     "text": [
      "('classification accuracy', 0.81514288727196038)\n",
      "Your first example is predicted to have a MEDIUM risk score\n",
      "Your second example is predicted to have a MEDIUM risk score\n"
     ]
    }
   ],
   "source": [
    "# Predicting the score assigned for risk of violent recidivism using JUST age, sex and race\n",
    "\n",
    "keep = [\n",
    " 'sex',\n",
    " 'age',\n",
    " 'race']\n",
    "\n",
    "target = ['v_score_text']\n",
    "text_cols = [0,2]\n",
    "\n",
    "to_keep = df[keep]\n",
    "to_target = df[target]\n",
    "\n",
    "# <EXAMPLE>: Adding in an example of choice\n",
    "to_keep.loc[df.shape[0]] = ['Male',22,'Caucasian']\n",
    "to_target.loc[df.shape[0]] = ['Low']\n",
    "to_keep.loc[df.shape[0]] = ['Female',29,'Caucasian']\n",
    "to_target.loc[df.shape[0]] = ['Low']\n",
    "\n",
    "run_model(to_keep, to_target, text_cols)"
   ]
  },
  {
   "cell_type": "markdown",
   "metadata": {},
   "source": [
    "## Model 3\n",
    "This model uses only race to predict COMPAS risk score.  It uses these features to predict the COMPAS risk score level.  It classifies examples with ~62% accuracy.\n",
    "\n",
    "It also prints the prediction for two examples.  One is is Caucasian, while the other is African-America."
   ]
  },
  {
   "cell_type": "code",
   "execution_count": 443,
   "metadata": {
    "collapsed": false
   },
   "outputs": [
    {
     "name": "stderr",
     "output_type": "stream",
     "text": [
      "/Users/ryanenderby/anaconda2/lib/python2.7/site-packages/ipykernel/__main__.py:13: SettingWithCopyWarning: \n",
      "A value is trying to be set on a copy of a slice from a DataFrame\n",
      "\n",
      "See the caveats in the documentation: http://pandas.pydata.org/pandas-docs/stable/indexing.html#indexing-view-versus-copy\n",
      "/Users/ryanenderby/anaconda2/lib/python2.7/site-packages/ipykernel/__main__.py:14: SettingWithCopyWarning: \n",
      "A value is trying to be set on a copy of a slice from a DataFrame\n",
      "\n",
      "See the caveats in the documentation: http://pandas.pydata.org/pandas-docs/stable/indexing.html#indexing-view-versus-copy\n",
      "/Users/ryanenderby/anaconda2/lib/python2.7/site-packages/ipykernel/__main__.py:15: SettingWithCopyWarning: \n",
      "A value is trying to be set on a copy of a slice from a DataFrame\n",
      "\n",
      "See the caveats in the documentation: http://pandas.pydata.org/pandas-docs/stable/indexing.html#indexing-view-versus-copy\n",
      "/Users/ryanenderby/anaconda2/lib/python2.7/site-packages/ipykernel/__main__.py:16: SettingWithCopyWarning: \n",
      "A value is trying to be set on a copy of a slice from a DataFrame\n",
      "\n",
      "See the caveats in the documentation: http://pandas.pydata.org/pandas-docs/stable/indexing.html#indexing-view-versus-copy\n",
      "INFO:root:Total parameters: 67075\n",
      "Epoch progress: 100%|██████████| 16/16 [00:00<00:00, 67.32it/s]\n",
      "INFO:root:Epoch:0, train loss: 1.20407417912, train accuracy: 0.715277777778, elapsed: 0.270169019699 sec.\n",
      "Epoch progress: 100%|██████████| 16/16 [00:00<00:00, 73.11it/s]\n",
      "INFO:root:Epoch:1, train loss: 0.890100502389, train accuracy: 0.715277777778, elapsed: 0.249269008636 sec.\n",
      "Epoch progress: 100%|██████████| 16/16 [00:00<00:00, 73.81it/s]\n",
      "INFO:root:Epoch:2, train loss: 0.853015446216, train accuracy: 0.715277777778, elapsed: 0.255766153336 sec.\n",
      "Epoch progress: 100%|██████████| 16/16 [00:00<00:00, 63.87it/s]\n",
      "INFO:root:Epoch:3, train loss: 0.823880194784, train accuracy: 0.715277777778, elapsed: 0.28210401535 sec.\n",
      "Epoch progress: 100%|██████████| 16/16 [00:00<00:00, 73.00it/s]\n",
      "INFO:root:Epoch:4, train loss: 0.814130587653, train accuracy: 0.715277777778, elapsed: 0.251470088959 sec.\n",
      "Epoch progress: 100%|██████████| 16/16 [00:00<00:00, 73.78it/s]\n",
      "INFO:root:Epoch:5, train loss: 0.789864949839, train accuracy: 0.715277777778, elapsed: 0.249826908112 sec.\n",
      "Epoch progress: 100%|██████████| 16/16 [00:00<00:00, 70.34it/s]\n",
      "INFO:root:Epoch:6, train loss: 0.794706578603, train accuracy: 0.715277777778, elapsed: 0.261534929276 sec.\n",
      "Epoch progress: 100%|██████████| 16/16 [00:00<00:00, 74.00it/s]\n",
      "INFO:root:Epoch:7, train loss: 0.775541534299, train accuracy: 0.715277777778, elapsed: 0.24617099762 sec.\n",
      "Epoch progress: 100%|██████████| 16/16 [00:00<00:00, 72.98it/s]\n",
      "INFO:root:Epoch:8, train loss: 0.783113035539, train accuracy: 0.715277777778, elapsed: 0.256628990173 sec.\n",
      "Epoch progress: 100%|██████████| 16/16 [00:00<00:00, 74.73it/s]\n",
      "INFO:root:Epoch:9, train loss: 0.770043371666, train accuracy: 0.715277777778, elapsed: 0.245019197464 sec.\n",
      "Epoch progress: 100%|██████████| 16/16 [00:00<00:00, 65.29it/s]\n",
      "INFO:root:Epoch:10, train loss: 0.778402837146, train accuracy: 0.715277777778, elapsed: 0.279121160507 sec.\n",
      "Epoch progress: 100%|██████████| 16/16 [00:00<00:00, 73.60it/s]\n",
      "INFO:root:Epoch:11, train loss: 0.762111366875, train accuracy: 0.715277777778, elapsed: 0.245692968369 sec.\n",
      "Epoch progress: 100%|██████████| 16/16 [00:00<00:00, 73.68it/s]\n",
      "INFO:root:Epoch:12, train loss: 0.765810001628, train accuracy: 0.715277777778, elapsed: 0.246921062469 sec.\n",
      "Epoch progress: 100%|██████████| 16/16 [00:00<00:00, 68.66it/s]\n",
      "INFO:root:Epoch:13, train loss: 0.767266304195, train accuracy: 0.715277777778, elapsed: 0.264657974243 sec.\n",
      "Epoch progress: 100%|██████████| 16/16 [00:00<00:00, 75.15it/s]\n",
      "INFO:root:Epoch:14, train loss: 0.766568205106, train accuracy: 0.715277777778, elapsed: 0.244048118591 sec.\n",
      "Epoch progress: 100%|██████████| 16/16 [00:00<00:00, 73.89it/s]\n",
      "INFO:root:Epoch:15, train loss: 0.760533483056, train accuracy: 0.715277777778, elapsed: 0.250862121582 sec.\n",
      "Epoch progress: 100%|██████████| 16/16 [00:00<00:00, 73.00it/s]\n",
      "INFO:root:Epoch:16, train loss: 0.759104389905, train accuracy: 0.715277777778, elapsed: 0.250514984131 sec.\n",
      "Epoch progress: 100%|██████████| 16/16 [00:00<00:00, 73.32it/s]\n",
      "INFO:root:Epoch:17, train loss: 0.757326971195, train accuracy: 0.715277777778, elapsed: 0.251544952393 sec.\n",
      "Epoch progress: 100%|██████████| 16/16 [00:00<00:00, 71.93it/s]\n",
      "INFO:root:Epoch:18, train loss: 0.75901745096, train accuracy: 0.715277777778, elapsed: 0.261672019958 sec.\n",
      "Epoch progress: 100%|██████████| 16/16 [00:00<00:00, 69.61it/s]\n",
      "INFO:root:Epoch:19, train loss: 0.76073208935, train accuracy: 0.715277777778, elapsed: 0.261408090591 sec.\n",
      "Epoch progress: 100%|██████████| 16/16 [00:00<00:00, 75.53it/s]\n",
      "INFO:root:Epoch:20, train loss: 0.758199925126, train accuracy: 0.715277777778, elapsed: 0.242683172226 sec.\n",
      "Epoch progress: 100%|██████████| 16/16 [00:00<00:00, 73.92it/s]\n",
      "INFO:root:Epoch:21, train loss: 0.757630625712, train accuracy: 0.715277777778, elapsed: 0.257448196411 sec.\n",
      "Epoch progress: 100%|██████████| 16/16 [00:00<00:00, 73.43it/s]\n",
      "INFO:root:Epoch:22, train loss: 0.75032796678, train accuracy: 0.715277777778, elapsed: 0.247355937958 sec.\n",
      "Epoch progress: 100%|██████████| 16/16 [00:00<00:00, 72.96it/s]\n",
      "INFO:root:Epoch:23, train loss: 0.755173305155, train accuracy: 0.715277777778, elapsed: 0.252114057541 sec.\n",
      "Epoch progress: 100%|██████████| 16/16 [00:00<00:00, 75.07it/s]\n",
      "INFO:root:Epoch:24, train loss: 0.760267416643, train accuracy: 0.715277777778, elapsed: 0.2483959198 sec.\n"
     ]
    },
    {
     "name": "stdout",
     "output_type": "stream",
     "text": [
      "('classification accuracy', 0.62489454813877465)\n",
      "Your first example is predicted to have a MEDIUM risk score\n",
      "Your second example is predicted to have a MEDIUM risk score\n"
     ]
    }
   ],
   "source": [
    "# Predicting the score assigned for risk of violent recidivism using JUST race\n",
    "\n",
    "keep = [\n",
    " 'race']\n",
    "\n",
    "target = ['v_score_text']\n",
    "text_cols = [0]\n",
    "\n",
    "to_keep = df[keep]\n",
    "to_target = df[target]\n",
    "\n",
    "# <EXAMPLE>: Adding in an example of choice\n",
    "to_keep.loc[df.shape[0]] = ['Caucasian']\n",
    "to_target.loc[df.shape[0]] = ['Low']\n",
    "to_keep.loc[df.shape[0]] = ['African-American']\n",
    "to_target.loc[df.shape[0]] = ['Low']\n",
    "\n",
    "run_model(to_keep, to_target, text_cols)"
   ]
  },
  {
   "cell_type": "code",
   "execution_count": null,
   "metadata": {
    "collapsed": false
   },
   "outputs": [],
   "source": []
  },
  {
   "cell_type": "code",
   "execution_count": null,
   "metadata": {
    "collapsed": true
   },
   "outputs": [],
   "source": []
  }
 ],
 "metadata": {
  "anaconda-cloud": {},
  "kernelspec": {
   "display_name": "Python [conda root]",
   "language": "python",
   "name": "conda-root-py"
  },
  "language_info": {
   "codemirror_mode": {
    "name": "ipython",
    "version": 2
   },
   "file_extension": ".py",
   "mimetype": "text/x-python",
   "name": "python",
   "nbconvert_exporter": "python",
   "pygments_lexer": "ipython2",
   "version": "2.7.12"
  }
 },
 "nbformat": 4,
 "nbformat_minor": 1
}
