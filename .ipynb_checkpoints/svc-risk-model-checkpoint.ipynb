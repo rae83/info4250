{
 "cells": [
  {
   "cell_type": "code",
   "execution_count": 57,
   "metadata": {
    "collapsed": true
   },
   "outputs": [],
   "source": [
    "import matplotlib.pyplot as plt\n",
    "import numpy as np\n",
    "import pandas as pd\n",
    "\n",
    "# Import classifiers and performance metrics\n",
    "from sklearn import datasets, svm, metrics, preprocessing\n",
    "from sklearn.model_selection import train_test_split\n",
    "from mla.utils import one_hot\n"
   ]
  },
  {
   "cell_type": "code",
   "execution_count": 58,
   "metadata": {
    "collapsed": true
   },
   "outputs": [],
   "source": [
    "\n",
    "def process_x_y(x_data,y_data):\n",
    "    \n",
    "    ''' convert the text columns of np.arrays of desired x_data and y_data into int / vector representation '''\n",
    "    \n",
    "    # convert text columns to integer values\n",
    "    to_int = [0,2,7]\n",
    "    for i in to_int:\n",
    "        temp = x_data[:,i]\n",
    "        temp_fit = le.fit(temp)\n",
    "        x_data[:,i] = le.transform(temp)\n",
    "\n",
    "    for i in range(len(x_data)):\n",
    "        for j in range(len(x_data[i])):\n",
    "            if np.isnan(x_data[i][j]):\n",
    "                x_data[i][j] = 0\n",
    "\n",
    "    x_data = x_data.astype(int)\n",
    "\n",
    "    y_fit = le.fit(y_data)\n",
    "    y_data = le.transform(y_data)\n",
    "    return x_data, y_data"
   ]
  },
  {
   "cell_type": "code",
   "execution_count": 59,
   "metadata": {
    "collapsed": false
   },
   "outputs": [
    {
     "name": "stdout",
     "output_type": "stream",
     "text": [
      "(4743, 8)\n",
      "(4743,)\n"
     ]
    }
   ],
   "source": [
    "csv_file = 'compas-scores-two-years-violent.csv'\n",
    "df = pd.read_csv(csv_file)\n",
    "\n",
    "keep = [\n",
    " 'sex',\n",
    " 'age',\n",
    " 'race',\n",
    " 'juv_fel_count',\n",
    " 'juv_misd_count',\n",
    " 'juv_other_count',\n",
    " 'priors_count',\n",
    " 'c_charge_degree']\n",
    "\n",
    "target = ['v_score_text']\n",
    "\n",
    "le = preprocessing.LabelEncoder()\n",
    "y = df[target].as_matrix()\n",
    "x = df[keep].as_matrix()\n",
    "\n",
    "x_data, y_data = process_x_y(x,y)\n",
    "\n",
    "print x_data.shape\n",
    "print y_data.shape\n",
    "\n",
    "x_train, x_test, y_train, y_test = train_test_split(x_data, y_data, test_size=0.15, random_state=1111)\n",
    "\n"
   ]
  },
  {
   "cell_type": "code",
   "execution_count": 60,
   "metadata": {
    "collapsed": true
   },
   "outputs": [],
   "source": [
    "# Create a classifier: a support vector classifier\n",
    "classifier = svm.SVC(gamma=0.001)\n"
   ]
  },
  {
   "cell_type": "code",
   "execution_count": 61,
   "metadata": {
    "collapsed": false
   },
   "outputs": [
    {
     "data": {
      "text/plain": [
       "SVC(C=1.0, cache_size=200, class_weight=None, coef0=0.0,\n",
       "  decision_function_shape=None, degree=3, gamma=0.001, kernel='rbf',\n",
       "  max_iter=-1, probability=False, random_state=None, shrinking=True,\n",
       "  tol=0.001, verbose=False)"
      ]
     },
     "execution_count": 61,
     "metadata": {},
     "output_type": "execute_result"
    }
   ],
   "source": [
    "classifier.fit(x_train, y_train)\n"
   ]
  },
  {
   "cell_type": "code",
   "execution_count": 64,
   "metadata": {
    "collapsed": false
   },
   "outputs": [
    {
     "name": "stdout",
     "output_type": "stream",
     "text": [
      "Classification report for classifier SVC(C=1.0, cache_size=200, class_weight=None, coef0=0.0,\n",
      "  decision_function_shape=None, degree=3, gamma=0.001, kernel='rbf',\n",
      "  max_iter=-1, probability=False, random_state=None, shrinking=True,\n",
      "  tol=0.001, verbose=False):\n",
      "             precision    recall  f1-score   support\n",
      "\n",
      "          0       0.50      0.02      0.04        54\n",
      "          1       0.83      0.95      0.89       502\n",
      "          2       0.62      0.54      0.58       156\n",
      "\n",
      "avg / total       0.76      0.79      0.76       712\n",
      "\n",
      "\n",
      "Confusion matrix:\n",
      "[[  1  25  28]\n",
      " [  1 478  23]\n",
      " [  0  72  84]]\n"
     ]
    }
   ],
   "source": [
    "expected = y_test\n",
    "predicted = classifier.predict(x_test)\n",
    "\n",
    "print(\"Classification report for classifier %s:\\n%s\\n\"\n",
    "      % (classifier, metrics.classification_report(expected, predicted)))\n",
    "print(\"Confusion matrix:\\n%s\" % metrics.confusion_matrix(expected, predicted))\n"
   ]
  },
  {
   "cell_type": "code",
   "execution_count": null,
   "metadata": {
    "collapsed": false
   },
   "outputs": [],
   "source": []
  }
 ],
 "metadata": {
  "anaconda-cloud": {},
  "kernelspec": {
   "display_name": "Python [conda root]",
   "language": "python",
   "name": "conda-root-py"
  },
  "language_info": {
   "codemirror_mode": {
    "name": "ipython",
    "version": 2
   },
   "file_extension": ".py",
   "mimetype": "text/x-python",
   "name": "python",
   "nbconvert_exporter": "python",
   "pygments_lexer": "ipython2",
   "version": "2.7.12"
  }
 },
 "nbformat": 4,
 "nbformat_minor": 1
}
