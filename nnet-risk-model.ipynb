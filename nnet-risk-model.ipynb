{
 "cells": [
  {
   "cell_type": "code",
   "execution_count": 51,
   "metadata": {
    "collapsed": false
   },
   "outputs": [],
   "source": [
    "import pandas as pd\n",
    "import logging\n",
    "\n",
    "import numpy as np\n",
    "import math\n",
    "\n",
    "from sklearn.model_selection import train_test_split\n",
    "from sklearn.datasets import make_classification\n",
    "from sklearn.datasets import make_regression\n",
    "from sklearn.metrics import roc_auc_score\n",
    "from sklearn import preprocessing\n",
    "\n",
    "# from mla.datasets import *\n",
    "# from mla.metrics.metrics import root_mean_squared_log_error, mean_squared_error\n",
    "from mla.neuralnet import NeuralNet\n",
    "from mla.neuralnet.constraints import MaxNorm, UnitNorm\n",
    "from mla.neuralnet.layers import Activation, Dense, Dropout\n",
    "from mla.neuralnet.optimizers import SGD, RMSprop, Adagrad, Adadelta, Adam\n",
    "from mla.neuralnet.parameters import Parameters\n",
    "from mla.neuralnet.regularizers import *\n",
    "from mla.utils import one_hot"
   ]
  },
  {
   "cell_type": "code",
   "execution_count": 52,
   "metadata": {
    "collapsed": false
   },
   "outputs": [],
   "source": [
    "logging.basicConfig(level=logging.DEBUG)\n",
    "\n",
    "\n",
    "def classification(X, y):\n",
    "    ''' TO-DO: add in arg that is an example array,\n",
    "    make this function print out the classification of the example '''\n",
    "    \n",
    "    y = one_hot(y)\n",
    "    X_train, X_test, y_train, y_test = train_test_split(X, y, test_size=0.15, random_state=1111)\n",
    "\n",
    "    model = NeuralNet(\n",
    "        layers=[\n",
    "            Dense(512, Parameters(init='uniform', regularizers={'W': L2(0.05)})),\n",
    "            Activation('relu'),\n",
    "            Dropout(0.9),\n",
    "            Dense(128, Parameters(init='normal', constraints={'W': MaxNorm()})),\n",
    "            Activation('relu'),\n",
    "            Dense(3),\n",
    "            Activation('softmax'),\n",
    "        ],\n",
    "        loss='categorical_crossentropy',\n",
    "        optimizer=Adadelta(),\n",
    "        metric='accuracy',\n",
    "        batch_size=256,\n",
    "        max_epochs=25,\n",
    "\n",
    "    )\n",
    "    print X_train.shape\n",
    "    print y_train.shape\n",
    "    model.fit(X_train, y_train)\n",
    "    predictions = model.predict(X_test)\n",
    "    print('classification accuracy', roc_auc_score(y_test[:, 0], predictions[:, 0]))\n",
    "\n"
   ]
  },
  {
   "cell_type": "code",
   "execution_count": 53,
   "metadata": {
    "collapsed": true
   },
   "outputs": [],
   "source": [
    "def process_x_y(x_data,y_data):\n",
    "    \n",
    "    ''' convert the text columns of np.arrays of desired x_data and y_data into int / vector representation '''\n",
    "    \n",
    "    # convert text columns to integer values\n",
    "    to_int = [0,2,7]\n",
    "    for i in to_int:\n",
    "        temp = x_data[:,i]\n",
    "        temp_fit = le.fit(temp)\n",
    "        x_data[:,i] = le.transform(temp)\n",
    "\n",
    "    for i in range(len(x_data)):\n",
    "        for j in range(len(x_data[i])):\n",
    "            if np.isnan(x_data[i][j]):\n",
    "                x_data[i][j] = 0\n",
    "\n",
    "    x_data = x_data.astype(int)\n",
    "\n",
    "    y_fit = le.fit(y_data)\n",
    "    y_data = le.transform(y_data)\n",
    "    return x_data, y_data"
   ]
  },
  {
   "cell_type": "code",
   "execution_count": 54,
   "metadata": {
    "collapsed": false
   },
   "outputs": [
    {
     "name": "stdout",
     "output_type": "stream",
     "text": [
      "(4743, 8)\n",
      "(4743,)\n"
     ]
    }
   ],
   "source": [
    "csv_file = 'compas-scores-two-years-violent.csv'\n",
    "df = pd.read_csv(csv_file)\n",
    "\n",
    "keep = [\n",
    " 'sex',\n",
    " 'age',\n",
    " 'race',\n",
    " 'juv_fel_count',\n",
    " 'juv_misd_count',\n",
    " 'juv_other_count',\n",
    " 'priors_count',\n",
    " 'c_charge_degree']\n",
    "\n",
    "target = ['v_score_text']\n",
    "\n",
    "le = preprocessing.LabelEncoder()\n",
    "y = df[target].as_matrix()\n",
    "x = df[keep].as_matrix()\n",
    "\n",
    "x_data, y_data = process_x_y(x,y)\n",
    "\n",
    "print x_data.shape\n",
    "print y_data.shape\n",
    "\n",
    "x_train, x_test, y_train, y_test = train_test_split(x_data, y_data, test_size=0.15, random_state=1111)\n",
    "\n"
   ]
  },
  {
   "cell_type": "code",
   "execution_count": 55,
   "metadata": {
    "collapsed": false
   },
   "outputs": [
    {
     "name": "stderr",
     "output_type": "stream",
     "text": [
      "INFO:root:Total parameters: 70659\n",
      "Epoch progress:  44%|████▍     | 7/16 [00:00<00:00, 66.18it/s]"
     ]
    },
    {
     "name": "stdout",
     "output_type": "stream",
     "text": [
      "(4031, 8)\n",
      "(4031, 3)\n"
     ]
    },
    {
     "name": "stderr",
     "output_type": "stream",
     "text": [
      "Epoch progress: 100%|██████████| 16/16 [00:00<00:00, 68.60it/s]\n",
      "INFO:root:Epoch:0, train loss: 3.1602412218, train accuracy: 0.71619945423, elapsed: 0.268970012665 sec.\n",
      "Epoch progress: 100%|██████████| 16/16 [00:00<00:00, 70.56it/s]\n",
      "INFO:root:Epoch:1, train loss: 2.04212005224, train accuracy: 0.71743984123, elapsed: 0.261106967926 sec.\n",
      "Epoch progress: 100%|██████████| 16/16 [00:00<00:00, 70.78it/s]\n",
      "INFO:root:Epoch:2, train loss: 1.67225495332, train accuracy: 0.71743984123, elapsed: 0.260575056076 sec.\n",
      "Epoch progress: 100%|██████████| 16/16 [00:00<00:00, 69.53it/s]\n",
      "INFO:root:Epoch:3, train loss: 1.46102365802, train accuracy: 0.719176383032, elapsed: 0.265741109848 sec.\n",
      "Epoch progress: 100%|██████████| 16/16 [00:00<00:00, 68.83it/s]\n",
      "INFO:root:Epoch:4, train loss: 1.30145800432, train accuracy: 0.720168692632, elapsed: 0.267425060272 sec.\n",
      "Epoch progress: 100%|██████████| 16/16 [00:00<00:00, 66.27it/s]\n",
      "INFO:root:Epoch:5, train loss: 1.22149079889, train accuracy: 0.720664847432, elapsed: 0.276234149933 sec.\n",
      "Epoch progress: 100%|██████████| 16/16 [00:00<00:00, 67.92it/s]\n",
      "INFO:root:Epoch:6, train loss: 1.16286302472, train accuracy: 0.719672537832, elapsed: 0.270656108856 sec.\n",
      "Epoch progress: 100%|██████████| 16/16 [00:00<00:00, 69.27it/s]\n",
      "INFO:root:Epoch:7, train loss: 1.08870897212, train accuracy: 0.719176383032, elapsed: 0.266577959061 sec.\n",
      "Epoch progress: 100%|██████████| 16/16 [00:00<00:00, 68.80it/s]\n",
      "INFO:root:Epoch:8, train loss: 1.03997538227, train accuracy: 0.715455222029, elapsed: 0.268237113953 sec.\n",
      "Epoch progress: 100%|██████████| 16/16 [00:00<00:00, 68.31it/s]\n",
      "INFO:root:Epoch:9, train loss: 1.05941728525, train accuracy: 0.717687918631, elapsed: 0.268797874451 sec.\n",
      "Epoch progress: 100%|██████████| 16/16 [00:00<00:00, 68.37it/s]\n",
      "INFO:root:Epoch:10, train loss: 0.990442344741, train accuracy: 0.71644753163, elapsed: 0.269714832306 sec.\n",
      "Epoch progress: 100%|██████████| 16/16 [00:00<00:00, 68.98it/s]\n",
      "INFO:root:Epoch:11, train loss: 0.956808379179, train accuracy: 0.719424460432, elapsed: 0.267890930176 sec.\n",
      "Epoch progress: 100%|██████████| 16/16 [00:00<00:00, 65.06it/s]\n",
      "INFO:root:Epoch:12, train loss: 0.9367465363, train accuracy: 0.719672537832, elapsed: 0.288299798965 sec.\n",
      "Epoch progress: 100%|██████████| 16/16 [00:00<00:00, 68.39it/s]\n",
      "INFO:root:Epoch:13, train loss: 0.946333721685, train accuracy: 0.71619945423, elapsed: 0.270733118057 sec.\n",
      "Epoch progress: 100%|██████████| 16/16 [00:00<00:00, 68.10it/s]\n",
      "INFO:root:Epoch:14, train loss: 0.930640732063, train accuracy: 0.71743984123, elapsed: 0.271672964096 sec.\n",
      "Epoch progress: 100%|██████████| 16/16 [00:00<00:00, 64.17it/s]\n",
      "INFO:root:Epoch:15, train loss: 0.894122322575, train accuracy: 0.720168692632, elapsed: 0.291352033615 sec.\n",
      "Epoch progress: 100%|██████████| 16/16 [00:00<00:00, 70.04it/s]\n",
      "INFO:root:Epoch:16, train loss: 0.887818267288, train accuracy: 0.721161002233, elapsed: 0.268983840942 sec.\n",
      "Epoch progress: 100%|██████████| 16/16 [00:00<00:00, 62.11it/s]\n",
      "INFO:root:Epoch:17, train loss: 0.878965780005, train accuracy: 0.738526420243, elapsed: 0.291520118713 sec.\n",
      "Epoch progress: 100%|██████████| 16/16 [00:00<00:00, 68.04it/s]\n",
      "INFO:root:Epoch:18, train loss: 0.872720437282, train accuracy: 0.727114859836, elapsed: 0.271627187729 sec.\n",
      "Epoch progress: 100%|██████████| 16/16 [00:00<00:00, 66.12it/s]\n",
      "INFO:root:Epoch:19, train loss: 0.827451453163, train accuracy: 0.722153311833, elapsed: 0.281039953232 sec.\n",
      "Epoch progress: 100%|██████████| 16/16 [00:00<00:00, 66.32it/s]\n",
      "INFO:root:Epoch:20, train loss: 0.833852194813, train accuracy: 0.73306871744, elapsed: 0.278548955917 sec.\n",
      "Epoch progress: 100%|██████████| 16/16 [00:00<00:00, 69.90it/s]\n",
      "INFO:root:Epoch:21, train loss: 0.789182068055, train accuracy: 0.738526420243, elapsed: 0.266350030899 sec.\n",
      "Epoch progress: 100%|██████████| 16/16 [00:00<00:00, 68.21it/s]\n",
      "INFO:root:Epoch:22, train loss: 0.795295764241, train accuracy: 0.720416770032, elapsed: 0.271430969238 sec.\n",
      "Epoch progress: 100%|██████████| 16/16 [00:00<00:00, 68.38it/s]\n",
      "INFO:root:Epoch:23, train loss: 0.785161447763, train accuracy: 0.76631108906, elapsed: 0.272163152695 sec.\n",
      "Epoch progress: 100%|██████████| 16/16 [00:00<00:00, 67.16it/s]\n",
      "INFO:root:Epoch:24, train loss: 0.767963374975, train accuracy: 0.774249565865, elapsed: 0.278599977493 sec.\n"
     ]
    },
    {
     "name": "stdout",
     "output_type": "stream",
     "text": [
      "('classification accuracy', 0.83946864797928633)\n"
     ]
    }
   ],
   "source": [
    "classification(x_data, y_data)"
   ]
  },
  {
   "cell_type": "code",
   "execution_count": null,
   "metadata": {
    "collapsed": false
   },
   "outputs": [],
   "source": []
  },
  {
   "cell_type": "code",
   "execution_count": null,
   "metadata": {
    "collapsed": false
   },
   "outputs": [],
   "source": [
    "''' \n",
    "\n",
    "For calculating your risk:\n",
    "\n",
    "[\n",
    " 'sex',\n",
    " 'age',\n",
    " 'race',\n",
    " 'juv_fel_count',\n",
    " 'juv_misd_count',\n",
    " 'juv_other_count',\n",
    " 'priors_count',\n",
    " 'c_charge_degree'\n",
    "]\n",
    "\n",
    "'''\n",
    "\n",
    "\n",
    "''' TO-DO:\n",
    "        Find out what options for each cell are - get the set of scores for each column\n",
    "        \n",
    "        Build in option for people to find out their risk score!\n",
    "'''"
   ]
  },
  {
   "cell_type": "code",
   "execution_count": null,
   "metadata": {
    "collapsed": true
   },
   "outputs": [],
   "source": []
  }
 ],
 "metadata": {
  "anaconda-cloud": {},
  "kernelspec": {
   "display_name": "Python [conda root]",
   "language": "python",
   "name": "conda-root-py"
  },
  "language_info": {
   "codemirror_mode": {
    "name": "ipython",
    "version": 2
   },
   "file_extension": ".py",
   "mimetype": "text/x-python",
   "name": "python",
   "nbconvert_exporter": "python",
   "pygments_lexer": "ipython2",
   "version": "2.7.12"
  }
 },
 "nbformat": 4,
 "nbformat_minor": 1
}
