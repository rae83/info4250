{
 "cells": [
  {
   "cell_type": "markdown",
   "metadata": {},
   "source": [
    "### For calculating your own risk (or an example of choice):\n",
    "\n",
    "Look for occurrences of the \\<EXAMPLE>\\ tag in the the code below. Change the values in the indicated array to whatever you want. Then run the cell and it will print out the classification for your example.  Values used in the rest of the training set for each feature are listed below.  If there are no possible values listed after the \"#\", then you can enter an integer value into the field.\n",
    "\n",
    "* 'sex', # 'Male' or 'Female' (I know this enforces a binary but it's what the training data from the FOIA requests provided)\n",
    "* 'age',\n",
    "* 'race', # 'African-American', 'Caucasian', 'Asian', 'Hispanic, 'Native American', 'Other'\n",
    "* 'juv_fel_count',\n",
    "* 'juv_misd_count',\n",
    "* 'juv_other_count',\n",
    "* 'priors_count',\n",
    "* 'c_charge_degree' # 'F' or 'M' (felony or misdemeanor)\n"
   ]
  },
  {
   "cell_type": "code",
   "execution_count": 401,
   "metadata": {
    "collapsed": false
   },
   "outputs": [],
   "source": [
    "import pandas as pd\n",
    "import logging\n",
    "\n",
    "import numpy as np\n",
    "import math\n",
    "\n",
    "from sklearn.model_selection import train_test_split\n",
    "# from sklearn.datasets import make_classification\n",
    "# from sklearn.datasets import make_regression\n",
    "from sklearn.metrics import roc_auc_score\n",
    "from sklearn import preprocessing\n",
    "\n",
    "# from mla.datasets import *\n",
    "# from mla.metrics.metrics import root_mean_squared_log_error, mean_squared_error\n",
    "from mla.neuralnet import NeuralNet\n",
    "from mla.neuralnet.constraints import MaxNorm, UnitNorm\n",
    "from mla.neuralnet.layers import Activation, Dense, Dropout\n",
    "from mla.neuralnet.optimizers import SGD, RMSprop, Adagrad, Adadelta, Adam\n",
    "from mla.neuralnet.parameters import Parameters\n",
    "from mla.neuralnet.regularizers import *\n",
    "from mla.utils import one_hot"
   ]
  },
  {
   "cell_type": "code",
   "execution_count": 402,
   "metadata": {
    "collapsed": false
   },
   "outputs": [],
   "source": [
    "logging.basicConfig(level=logging.DEBUG)\n",
    "\n",
    "\n",
    "def classification(X, y):\n",
    "    \n",
    "    example = X[-1]\n",
    "    example = np.asarray([example, example])\n",
    "    \n",
    "#     print X\n",
    "#     print example\n",
    "    \n",
    "    y = one_hot(y)\n",
    "    X_train, X_test, y_train, y_test = train_test_split(X, y, test_size=0.15, random_state=1111)\n",
    "\n",
    "    model = NeuralNet(\n",
    "        layers=[\n",
    "            Dense(512, Parameters(init='uniform', regularizers={'W': L2(0.05)})),\n",
    "            Activation('relu'),\n",
    "            Dropout(0.9),\n",
    "            Dense(128, Parameters(init='normal', constraints={'W': MaxNorm()})),\n",
    "            Activation('relu'),\n",
    "            Dense(3),\n",
    "            Activation('softmax'),\n",
    "        ],\n",
    "        loss='categorical_crossentropy',\n",
    "        optimizer=Adadelta(),\n",
    "        metric='accuracy',\n",
    "        batch_size=256,\n",
    "        max_epochs=25,\n",
    "\n",
    "    )\n",
    "#     print X_train.shape\n",
    "#     print y_train.shape\n",
    "    model.fit(X_train, y_train)\n",
    "    predictions = model.predict(X_test)\n",
    "    print('classification accuracy', roc_auc_score(y_test[:, 0], predictions[:, 0]))\n",
    "    \n",
    "    ex_predict = model.predict(example)\n",
    "    scores = [\"LOW\", \"MEDIUM\", \"HIGH\"]\n",
    "    print \"Your example is predicted to have a %s risk score\" % scores[np.argmax(ex_predict[0])]\n",
    "\n"
   ]
  },
  {
   "cell_type": "code",
   "execution_count": 403,
   "metadata": {
    "collapsed": true
   },
   "outputs": [],
   "source": [
    "def process_x_y(x_data, y_data, to_int):\n",
    "    \n",
    "    ''' convert the text columns of np.arrays of desired x_data and y_data into int / vector representation\n",
    "        to_int is the indices of columns with text values (make this programmatic in the next update)'''\n",
    "    \n",
    "    # convert text columns to integer values\n",
    "    le = preprocessing.LabelEncoder()\n",
    "    for i in to_int:\n",
    "        temp = x_data[:,i]\n",
    "        temp_fit = le.fit(temp)\n",
    "        x_data[:,i] = le.transform(temp)\n",
    "\n",
    "    for i in range(len(x_data)):\n",
    "        for j in range(len(x_data[i])):\n",
    "            if np.isnan(x_data[i][j]):\n",
    "                x_data[i][j] = 0\n",
    "\n",
    "    x_data = x_data.astype(int)\n",
    "    \n",
    "\n",
    "    y_fit = le.fit(y_data)\n",
    "    y_data = le.transform(y_data)\n",
    "    \n",
    "    return x_data, y_data"
   ]
  },
  {
   "cell_type": "code",
   "execution_count": 404,
   "metadata": {
    "collapsed": true
   },
   "outputs": [],
   "source": [
    "def run_model(keep, target, to_int):\n",
    "\n",
    "    y = target.as_matrix()\n",
    "    x = keep.as_matrix()\n",
    "\n",
    "    x_data, y_data = process_x_y(x,y, to_int)\n",
    "\n",
    "    x_train, x_test, y_train, y_test = train_test_split(x_data, y_data, test_size=0.15, random_state=1111)\n",
    "    classification(x_data, y_data)"
   ]
  },
  {
   "cell_type": "code",
   "execution_count": 405,
   "metadata": {
    "collapsed": false
   },
   "outputs": [],
   "source": [
    "csv_file = 'compas-scores-two-years-violent.csv'\n",
    "df = pd.read_csv(csv_file)"
   ]
  },
  {
   "cell_type": "code",
   "execution_count": 406,
   "metadata": {
    "collapsed": false
   },
   "outputs": [
    {
     "name": "stderr",
     "output_type": "stream",
     "text": [
      "/Users/ryanenderby/anaconda2/lib/python2.7/site-packages/ipykernel/__main__.py:19: SettingWithCopyWarning: \n",
      "A value is trying to be set on a copy of a slice from a DataFrame\n",
      "\n",
      "See the caveats in the documentation: http://pandas.pydata.org/pandas-docs/stable/indexing.html#indexing-view-versus-copy\n",
      "/Users/ryanenderby/anaconda2/lib/python2.7/site-packages/ipykernel/__main__.py:20: SettingWithCopyWarning: \n",
      "A value is trying to be set on a copy of a slice from a DataFrame\n",
      "\n",
      "See the caveats in the documentation: http://pandas.pydata.org/pandas-docs/stable/indexing.html#indexing-view-versus-copy\n",
      "INFO:root:Total parameters: 70659\n",
      "Epoch progress: 100%|██████████| 16/16 [00:00<00:00, 70.07it/s]\n",
      "INFO:root:Epoch:0, train loss: 5.30650038236, train accuracy: 0.715277777778, elapsed: 0.263963937759 sec.\n",
      "Epoch progress: 100%|██████████| 16/16 [00:00<00:00, 66.97it/s]\n",
      "INFO:root:Epoch:1, train loss: 2.00994070763, train accuracy: 0.715277777778, elapsed: 0.272969961166 sec.\n",
      "Epoch progress: 100%|██████████| 16/16 [00:00<00:00, 70.30it/s]\n",
      "INFO:root:Epoch:2, train loss: 1.6883196485, train accuracy: 0.715277777778, elapsed: 0.261718988419 sec.\n",
      "Epoch progress: 100%|██████████| 16/16 [00:00<00:00, 68.18it/s]\n",
      "INFO:root:Epoch:3, train loss: 1.41504646895, train accuracy: 0.715277777778, elapsed: 0.269510984421 sec.\n",
      "Epoch progress: 100%|██████████| 16/16 [00:00<00:00, 69.62it/s]\n",
      "INFO:root:Epoch:4, train loss: 1.28995086851, train accuracy: 0.715277777778, elapsed: 0.264482021332 sec.\n",
      "Epoch progress: 100%|██████████| 16/16 [00:00<00:00, 67.70it/s]\n",
      "INFO:root:Epoch:5, train loss: 1.17006284756, train accuracy: 0.715277777778, elapsed: 0.27351307869 sec.\n",
      "Epoch progress: 100%|██████████| 16/16 [00:00<00:00, 68.45it/s]\n",
      "INFO:root:Epoch:6, train loss: 1.10560096883, train accuracy: 0.715773809524, elapsed: 0.268008947372 sec.\n",
      "Epoch progress: 100%|██████████| 16/16 [00:00<00:00, 68.14it/s]\n",
      "INFO:root:Epoch:7, train loss: 1.06628578229, train accuracy: 0.716517857143, elapsed: 0.271260976791 sec.\n",
      "Epoch progress: 100%|██████████| 16/16 [00:00<00:00, 69.41it/s]\n",
      "INFO:root:Epoch:8, train loss: 1.05621401901, train accuracy: 0.71626984127, elapsed: 0.266602039337 sec.\n",
      "Epoch progress: 100%|██████████| 16/16 [00:00<00:00, 59.86it/s]\n",
      "INFO:root:Epoch:9, train loss: 0.999098069828, train accuracy: 0.716517857143, elapsed: 0.307018995285 sec.\n",
      "Epoch progress: 100%|██████████| 16/16 [00:00<00:00, 61.61it/s]\n",
      "INFO:root:Epoch:10, train loss: 0.966315855213, train accuracy: 0.717013888889, elapsed: 0.299385070801 sec.\n",
      "Epoch progress: 100%|██████████| 16/16 [00:00<00:00, 65.30it/s]\n",
      "INFO:root:Epoch:11, train loss: 0.93369261939, train accuracy: 0.717261904762, elapsed: 0.279894828796 sec.\n",
      "Epoch progress: 100%|██████████| 16/16 [00:00<00:00, 67.58it/s]\n",
      "INFO:root:Epoch:12, train loss: 0.936196705074, train accuracy: 0.718998015873, elapsed: 0.270975112915 sec.\n",
      "Epoch progress: 100%|██████████| 16/16 [00:00<00:00, 67.64it/s]\n",
      "INFO:root:Epoch:13, train loss: 0.922531471773, train accuracy: 0.718998015873, elapsed: 0.273743152618 sec.\n",
      "Epoch progress: 100%|██████████| 16/16 [00:00<00:00, 66.49it/s]\n",
      "INFO:root:Epoch:14, train loss: 0.884114553966, train accuracy: 0.718501984127, elapsed: 0.277063131332 sec.\n",
      "Epoch progress: 100%|██████████| 16/16 [00:00<00:00, 68.47it/s]\n",
      "INFO:root:Epoch:15, train loss: 0.877046451539, train accuracy: 0.719246031746, elapsed: 0.270479917526 sec.\n",
      "Epoch progress: 100%|██████████| 16/16 [00:00<00:00, 69.31it/s]\n",
      "INFO:root:Epoch:16, train loss: 0.856184019809, train accuracy: 0.719494047619, elapsed: 0.265803098679 sec.\n",
      "Epoch progress: 100%|██████████| 16/16 [00:00<00:00, 67.71it/s]\n",
      "INFO:root:Epoch:17, train loss: 0.87869148865, train accuracy: 0.720486111111, elapsed: 0.271786928177 sec.\n",
      "Epoch progress: 100%|██████████| 16/16 [00:00<00:00, 67.64it/s]\n",
      "INFO:root:Epoch:18, train loss: 0.835197780365, train accuracy: 0.72123015873, elapsed: 0.272680044174 sec.\n",
      "Epoch progress: 100%|██████████| 16/16 [00:00<00:00, 68.33it/s]\n",
      "INFO:root:Epoch:19, train loss: 0.823378683843, train accuracy: 0.721726190476, elapsed: 0.270010948181 sec.\n",
      "Epoch progress: 100%|██████████| 16/16 [00:00<00:00, 62.61it/s]\n",
      "INFO:root:Epoch:20, train loss: 0.798895107252, train accuracy: 0.721478174603, elapsed: 0.298336982727 sec.\n",
      "Epoch progress: 100%|██████████| 16/16 [00:00<00:00, 64.14it/s]\n",
      "INFO:root:Epoch:21, train loss: 0.808165178036, train accuracy: 0.732390873016, elapsed: 0.291702032089 sec.\n",
      "Epoch progress: 100%|██████████| 16/16 [00:00<00:00, 63.25it/s]\n",
      "INFO:root:Epoch:22, train loss: 0.794010500044, train accuracy: 0.744047619048, elapsed: 0.288750171661 sec.\n",
      "Epoch progress: 100%|██████████| 16/16 [00:00<00:00, 64.38it/s]\n",
      "INFO:root:Epoch:23, train loss: 0.77047324202, train accuracy: 0.726686507937, elapsed: 0.294125080109 sec.\n",
      "Epoch progress: 100%|██████████| 16/16 [00:00<00:00, 63.93it/s]\n",
      "INFO:root:Epoch:24, train loss: 0.755666845799, train accuracy: 0.755456349206, elapsed: 0.289047956467 sec.\n"
     ]
    },
    {
     "name": "stdout",
     "output_type": "stream",
     "text": [
      "('classification accuracy', 0.85127333122429605)\n",
      "Your example is predicted to have a MEDIUM risk score\n"
     ]
    }
   ],
   "source": [
    "# Predicting the score assigned for risk of violent recidivism\n",
    "\n",
    "keep = [\n",
    " 'sex',\n",
    " 'age',\n",
    " 'race',\n",
    " 'juv_fel_count',\n",
    " 'juv_misd_count',\n",
    " 'juv_other_count',\n",
    " 'priors_count',\n",
    " 'c_charge_degree']\n",
    "\n",
    "target = ['v_score_text']\n",
    "text_cols = [0,2,7]\n",
    "to_keep = df[keep]\n",
    "to_target = df[target]\n",
    "\n",
    "# <EXAMPLE>: Adding in an example of choice\n",
    "to_keep.loc[df.shape[0]] = ['Male',22,'Caucasian',0,0,0,0,'F'] # <--- change the values in this array\n",
    "to_target.loc[df.shape[0]] = ['Low']\n",
    "\n",
    "run_model(to_keep, to_target, text_cols)"
   ]
  },
  {
   "cell_type": "code",
   "execution_count": 407,
   "metadata": {
    "collapsed": false
   },
   "outputs": [
    {
     "name": "stderr",
     "output_type": "stream",
     "text": [
      "/Users/ryanenderby/anaconda2/lib/python2.7/site-packages/ipykernel/__main__.py:15: SettingWithCopyWarning: \n",
      "A value is trying to be set on a copy of a slice from a DataFrame\n",
      "\n",
      "See the caveats in the documentation: http://pandas.pydata.org/pandas-docs/stable/indexing.html#indexing-view-versus-copy\n",
      "/Users/ryanenderby/anaconda2/lib/python2.7/site-packages/ipykernel/__main__.py:16: SettingWithCopyWarning: \n",
      "A value is trying to be set on a copy of a slice from a DataFrame\n",
      "\n",
      "See the caveats in the documentation: http://pandas.pydata.org/pandas-docs/stable/indexing.html#indexing-view-versus-copy\n",
      "INFO:root:Total parameters: 68099\n",
      "Epoch progress: 100%|██████████| 16/16 [00:00<00:00, 71.46it/s]\n",
      "INFO:root:Epoch:0, train loss: 2.8566724982, train accuracy: 0.715277777778, elapsed: 0.260395050049 sec.\n",
      "Epoch progress: 100%|██████████| 16/16 [00:00<00:00, 64.71it/s]\n",
      "INFO:root:Epoch:1, train loss: 1.83904580054, train accuracy: 0.715277777778, elapsed: 0.279430866241 sec.\n",
      "Epoch progress: 100%|██████████| 16/16 [00:00<00:00, 72.22it/s]\n",
      "INFO:root:Epoch:2, train loss: 1.55244373549, train accuracy: 0.715277777778, elapsed: 0.251684904099 sec.\n",
      "Epoch progress: 100%|██████████| 16/16 [00:00<00:00, 71.10it/s]\n",
      "INFO:root:Epoch:3, train loss: 1.29912392158, train accuracy: 0.715277777778, elapsed: 0.258675813675 sec.\n",
      "Epoch progress: 100%|██████████| 16/16 [00:00<00:00, 66.48it/s]\n",
      "INFO:root:Epoch:4, train loss: 1.18757360782, train accuracy: 0.715277777778, elapsed: 0.281795024872 sec.\n",
      "Epoch progress: 100%|██████████| 16/16 [00:00<00:00, 67.81it/s]\n",
      "INFO:root:Epoch:5, train loss: 1.10541712257, train accuracy: 0.597718253968, elapsed: 0.271868944168 sec.\n",
      "Epoch progress: 100%|██████████| 16/16 [00:00<00:00, 61.97it/s]\n",
      "INFO:root:Epoch:6, train loss: 1.0282767792, train accuracy: 0.71626984127, elapsed: 0.294764995575 sec.\n",
      "Epoch progress: 100%|██████████| 16/16 [00:00<00:00, 64.01it/s]\n",
      "INFO:root:Epoch:7, train loss: 1.02921761327, train accuracy: 0.715277777778, elapsed: 0.289934873581 sec.\n",
      "Epoch progress: 100%|██████████| 16/16 [00:00<00:00, 70.29it/s]\n",
      "INFO:root:Epoch:8, train loss: 0.994593106194, train accuracy: 0.715277777778, elapsed: 0.26323890686 sec.\n",
      "Epoch progress: 100%|██████████| 16/16 [00:00<00:00, 71.65it/s]\n",
      "INFO:root:Epoch:9, train loss: 0.979661083575, train accuracy: 0.735367063492, elapsed: 0.255481004715 sec.\n",
      "Epoch progress: 100%|██████████| 16/16 [00:00<00:00, 67.12it/s]\n",
      "INFO:root:Epoch:10, train loss: 0.941242516246, train accuracy: 0.72123015873, elapsed: 0.275583028793 sec.\n",
      "Epoch progress: 100%|██████████| 16/16 [00:00<00:00, 69.62it/s]\n",
      "INFO:root:Epoch:11, train loss: 0.902668631646, train accuracy: 0.742807539683, elapsed: 0.267552137375 sec.\n",
      "Epoch progress: 100%|██████████| 16/16 [00:00<00:00, 68.60it/s]\n",
      "INFO:root:Epoch:12, train loss: 0.879337711282, train accuracy: 0.756696428571, elapsed: 0.271987915039 sec.\n",
      "Epoch progress: 100%|██████████| 16/16 [00:00<00:00, 66.63it/s]\n",
      "INFO:root:Epoch:13, train loss: 0.900041705534, train accuracy: 0.734871031746, elapsed: 0.273280858994 sec.\n",
      "Epoch progress: 100%|██████████| 16/16 [00:00<00:00, 70.99it/s]\n",
      "INFO:root:Epoch:14, train loss: 0.871064406423, train accuracy: 0.766121031746, elapsed: 0.262365102768 sec.\n",
      "Epoch progress: 100%|██████████| 16/16 [00:00<00:00, 68.89it/s]\n",
      "INFO:root:Epoch:15, train loss: 0.85880219364, train accuracy: 0.766121031746, elapsed: 0.270185947418 sec.\n",
      "Epoch progress: 100%|██████████| 16/16 [00:00<00:00, 67.72it/s]\n",
      "INFO:root:Epoch:16, train loss: 0.836200480138, train accuracy: 0.653025793651, elapsed: 0.277444839478 sec.\n",
      "Epoch progress: 100%|██████████| 16/16 [00:00<00:00, 66.17it/s]\n",
      "INFO:root:Epoch:17, train loss: 0.828514370739, train accuracy: 0.756696428571, elapsed: 0.274608850479 sec.\n",
      "Epoch progress: 100%|██████████| 16/16 [00:00<00:00, 69.66it/s]\n",
      "INFO:root:Epoch:18, train loss: 0.830156909881, train accuracy: 0.776785714286, elapsed: 0.266110181808 sec.\n",
      "Epoch progress: 100%|██████████| 16/16 [00:00<00:00, 68.17it/s]\n",
      "INFO:root:Epoch:19, train loss: 0.806194319033, train accuracy: 0.767857142857, elapsed: 0.273355960846 sec.\n",
      "Epoch progress: 100%|██████████| 16/16 [00:00<00:00, 61.88it/s]\n",
      "INFO:root:Epoch:20, train loss: 0.79363943744, train accuracy: 0.733630952381, elapsed: 0.296698093414 sec.\n",
      "Epoch progress: 100%|██████████| 16/16 [00:00<00:00, 69.96it/s]\n",
      "INFO:root:Epoch:21, train loss: 0.771401236425, train accuracy: 0.74503968254, elapsed: 0.266005992889 sec.\n",
      "Epoch progress: 100%|██████████| 16/16 [00:00<00:00, 69.56it/s]\n",
      "INFO:root:Epoch:22, train loss: 0.757262836276, train accuracy: 0.775793650794, elapsed: 0.266787052155 sec.\n",
      "Epoch progress: 100%|██████████| 16/16 [00:00<00:00, 66.92it/s]\n",
      "INFO:root:Epoch:23, train loss: 0.763307914912, train accuracy: 0.684027777778, elapsed: 0.276070833206 sec.\n",
      "Epoch progress: 100%|██████████| 16/16 [00:00<00:00, 67.97it/s]\n",
      "INFO:root:Epoch:24, train loss: 0.752950455091, train accuracy: 0.678571428571, elapsed: 0.281094074249 sec.\n"
     ]
    },
    {
     "name": "stdout",
     "output_type": "stream",
     "text": [
      "('classification accuracy', 0.78498365496151012)\n",
      "Your example is predicted to have a HIGH risk score\n"
     ]
    }
   ],
   "source": [
    "# Predicting the score assigned for risk of violent recidivism using JUST age, sex and race\n",
    "\n",
    "keep = [\n",
    " 'sex',\n",
    " 'age',\n",
    " 'race']\n",
    "\n",
    "target = ['v_score_text']\n",
    "text_cols = [0,2]\n",
    "\n",
    "to_keep = df[keep]\n",
    "to_target = df[target]\n",
    "\n",
    "# <EXAMPLE>: Adding in an example of choice\n",
    "to_keep.loc[df.shape[0]] = ['Male',22,'Caucasian']\n",
    "to_target.loc[df.shape[0]] = ['Low']\n",
    "\n",
    "run_model(to_keep, to_target, text_cols)"
   ]
  },
  {
   "cell_type": "code",
   "execution_count": 408,
   "metadata": {
    "collapsed": false
   },
   "outputs": [
    {
     "name": "stderr",
     "output_type": "stream",
     "text": [
      "/Users/ryanenderby/anaconda2/lib/python2.7/site-packages/ipykernel/__main__.py:13: SettingWithCopyWarning: \n",
      "A value is trying to be set on a copy of a slice from a DataFrame\n",
      "\n",
      "See the caveats in the documentation: http://pandas.pydata.org/pandas-docs/stable/indexing.html#indexing-view-versus-copy\n",
      "/Users/ryanenderby/anaconda2/lib/python2.7/site-packages/ipykernel/__main__.py:14: SettingWithCopyWarning: \n",
      "A value is trying to be set on a copy of a slice from a DataFrame\n",
      "\n",
      "See the caveats in the documentation: http://pandas.pydata.org/pandas-docs/stable/indexing.html#indexing-view-versus-copy\n",
      "INFO:root:Total parameters: 67075\n",
      "Epoch progress: 100%|██████████| 16/16 [00:00<00:00, 75.07it/s]\n",
      "INFO:root:Epoch:0, train loss: 0.97967315348, train accuracy: 0.715277777778, elapsed: 0.24632191658 sec.\n",
      "Epoch progress: 100%|██████████| 16/16 [00:00<00:00, 76.32it/s]\n",
      "INFO:root:Epoch:1, train loss: 0.845374569387, train accuracy: 0.715277777778, elapsed: 0.243900060654 sec.\n",
      "Epoch progress: 100%|██████████| 16/16 [00:00<00:00, 73.06it/s]\n",
      "INFO:root:Epoch:2, train loss: 0.818622871883, train accuracy: 0.715277777778, elapsed: 0.251918077469 sec.\n",
      "Epoch progress: 100%|██████████| 16/16 [00:00<00:00, 66.67it/s]\n",
      "INFO:root:Epoch:3, train loss: 0.808844723588, train accuracy: 0.715277777778, elapsed: 0.270848989487 sec.\n",
      "Epoch progress: 100%|██████████| 16/16 [00:00<00:00, 71.94it/s]\n",
      "INFO:root:Epoch:4, train loss: 0.789754417095, train accuracy: 0.715277777778, elapsed: 0.251838922501 sec.\n",
      "Epoch progress: 100%|██████████| 16/16 [00:00<00:00, 72.81it/s]\n",
      "INFO:root:Epoch:5, train loss: 0.790238435357, train accuracy: 0.715277777778, elapsed: 0.249407052994 sec.\n",
      "Epoch progress: 100%|██████████| 16/16 [00:00<00:00, 66.78it/s]\n",
      "INFO:root:Epoch:6, train loss: 0.777585133089, train accuracy: 0.715277777778, elapsed: 0.278096199036 sec.\n",
      "Epoch progress: 100%|██████████| 16/16 [00:00<00:00, 72.46it/s]\n",
      "INFO:root:Epoch:7, train loss: 0.778732606854, train accuracy: 0.715277777778, elapsed: 0.254987001419 sec.\n",
      "Epoch progress: 100%|██████████| 16/16 [00:00<00:00, 64.17it/s]\n",
      "INFO:root:Epoch:8, train loss: 0.778497380493, train accuracy: 0.715277777778, elapsed: 0.28457403183 sec.\n",
      "Epoch progress: 100%|██████████| 16/16 [00:00<00:00, 68.08it/s]\n",
      "INFO:root:Epoch:9, train loss: 0.770818445287, train accuracy: 0.715277777778, elapsed: 0.272405147552 sec.\n",
      "Epoch progress: 100%|██████████| 16/16 [00:00<00:00, 70.42it/s]\n",
      "INFO:root:Epoch:10, train loss: 0.766302407958, train accuracy: 0.715277777778, elapsed: 0.260253190994 sec.\n",
      "Epoch progress: 100%|██████████| 16/16 [00:00<00:00, 73.64it/s]\n",
      "INFO:root:Epoch:11, train loss: 0.769064817212, train accuracy: 0.715277777778, elapsed: 0.248397827148 sec.\n",
      "Epoch progress: 100%|██████████| 16/16 [00:00<00:00, 71.59it/s]\n",
      "INFO:root:Epoch:12, train loss: 0.762764502552, train accuracy: 0.715277777778, elapsed: 0.257436990738 sec.\n",
      "Epoch progress: 100%|██████████| 16/16 [00:00<00:00, 71.11it/s]\n",
      "INFO:root:Epoch:13, train loss: 0.760307002279, train accuracy: 0.715277777778, elapsed: 0.261934041977 sec.\n",
      "Epoch progress: 100%|██████████| 16/16 [00:00<00:00, 68.84it/s]\n",
      "INFO:root:Epoch:14, train loss: 0.75725545892, train accuracy: 0.715277777778, elapsed: 0.265365839005 sec.\n",
      "Epoch progress: 100%|██████████| 16/16 [00:00<00:00, 74.34it/s]\n",
      "INFO:root:Epoch:15, train loss: 0.756918663169, train accuracy: 0.715277777778, elapsed: 0.24658703804 sec.\n",
      "Epoch progress: 100%|██████████| 16/16 [00:00<00:00, 71.29it/s]\n",
      "INFO:root:Epoch:16, train loss: 0.755306803759, train accuracy: 0.715277777778, elapsed: 0.260299921036 sec.\n",
      "Epoch progress: 100%|██████████| 16/16 [00:00<00:00, 70.49it/s]\n",
      "INFO:root:Epoch:17, train loss: 0.753740853098, train accuracy: 0.715277777778, elapsed: 0.2596180439 sec.\n",
      "Epoch progress: 100%|██████████| 16/16 [00:00<00:00, 64.32it/s]\n",
      "INFO:root:Epoch:18, train loss: 0.758469619327, train accuracy: 0.715277777778, elapsed: 0.285074949265 sec.\n",
      "Epoch progress: 100%|██████████| 16/16 [00:00<00:00, 67.88it/s]\n",
      "INFO:root:Epoch:19, train loss: 0.751519375137, train accuracy: 0.715277777778, elapsed: 0.270662784576 sec.\n",
      "Epoch progress: 100%|██████████| 16/16 [00:00<00:00, 73.18it/s]\n",
      "INFO:root:Epoch:20, train loss: 0.7595939694, train accuracy: 0.715277777778, elapsed: 0.247945070267 sec.\n",
      "Epoch progress: 100%|██████████| 16/16 [00:00<00:00, 72.13it/s]\n",
      "INFO:root:Epoch:21, train loss: 0.74848251321, train accuracy: 0.715277777778, elapsed: 0.253284931183 sec.\n",
      "Epoch progress: 100%|██████████| 16/16 [00:00<00:00, 70.87it/s]\n",
      "INFO:root:Epoch:22, train loss: 0.755769424368, train accuracy: 0.715277777778, elapsed: 0.259920120239 sec.\n",
      "Epoch progress: 100%|██████████| 16/16 [00:00<00:00, 73.07it/s]\n",
      "INFO:root:Epoch:23, train loss: 0.753019895805, train accuracy: 0.715277777778, elapsed: 0.252856016159 sec.\n",
      "Epoch progress: 100%|██████████| 16/16 [00:00<00:00, 68.24it/s]\n",
      "INFO:root:Epoch:24, train loss: 0.754472671371, train accuracy: 0.715277777778, elapsed: 0.265428066254 sec.\n"
     ]
    },
    {
     "name": "stdout",
     "output_type": "stream",
     "text": [
      "('classification accuracy', 0.61923969208056517)\n",
      "Your example is predicted to have a MEDIUM risk score\n"
     ]
    }
   ],
   "source": [
    "# Predicting the score assigned for risk of violent recidivism using JUST race\n",
    "\n",
    "keep = [\n",
    " 'race']\n",
    "\n",
    "target = ['v_score_text']\n",
    "text_cols = [0]\n",
    "\n",
    "to_keep = df[keep]\n",
    "to_target = df[target]\n",
    "\n",
    "# <EXAMPLE>: Adding in an example of choice\n",
    "to_keep.loc[df.shape[0]] = ['Hispanic']\n",
    "to_target.loc[df.shape[0]] = ['Low']\n",
    "\n",
    "run_model(to_keep, to_target, text_cols)"
   ]
  },
  {
   "cell_type": "code",
   "execution_count": null,
   "metadata": {
    "collapsed": false
   },
   "outputs": [],
   "source": []
  },
  {
   "cell_type": "code",
   "execution_count": null,
   "metadata": {
    "collapsed": true
   },
   "outputs": [],
   "source": []
  }
 ],
 "metadata": {
  "anaconda-cloud": {},
  "kernelspec": {
   "display_name": "Python [conda root]",
   "language": "python",
   "name": "conda-root-py"
  },
  "language_info": {
   "codemirror_mode": {
    "name": "ipython",
    "version": 2
   },
   "file_extension": ".py",
   "mimetype": "text/x-python",
   "name": "python",
   "nbconvert_exporter": "python",
   "pygments_lexer": "ipython2",
   "version": "2.7.12"
  }
 },
 "nbformat": 4,
 "nbformat_minor": 1
}
